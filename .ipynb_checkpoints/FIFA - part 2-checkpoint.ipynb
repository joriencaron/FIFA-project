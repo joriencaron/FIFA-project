{
 "cells": [
  {
   "cell_type": "code",
   "execution_count": 1,
   "id": "19ff5dc9",
   "metadata": {},
   "outputs": [],
   "source": [
    "import pandas as pd\n",
    "import numpy as np\n",
    "import seaborn as sns"
   ]
  },
  {
   "cell_type": "code",
   "execution_count": 2,
   "id": "0ad4d61f",
   "metadata": {},
   "outputs": [],
   "source": [
    "df_fifa = pd.read_csv('fifa21_training.csv')"
   ]
  },
  {
   "cell_type": "code",
   "execution_count": 3,
   "id": "06c84bba",
   "metadata": {},
   "outputs": [],
   "source": [
    "def clean_data(df, column):\n",
    "    df = df.drop([column], axis=1)\n",
    "    cols = []\n",
    "    for c in df.columns:\n",
    "        cols.append(c.lower())\n",
    "    df.columns = cols\n",
    "    perc = 25.0\n",
    "    min_count =  int(((100-perc)/100)*df.shape[0] + 1)\n",
    "    df = df.dropna( axis=1, \n",
    "                thresh=min_count)\n",
    "    return df\n",
    "\n",
    "df_fifa = clean_data(df_fifa,'Unnamed: 0')"
   ]
  },
  {
   "cell_type": "code",
   "execution_count": 4,
   "id": "d602e708",
   "metadata": {},
   "outputs": [
    {
     "name": "stderr",
     "output_type": "stream",
     "text": [
      "/var/folders/ds/zk5fgzhx7b53nll390cs5phh0000gn/T/ipykernel_60424/2916895238.py:5: SettingWithCopyWarning: \n",
      "A value is trying to be set on a copy of a slice from a DataFrame.\n",
      "Try using .loc[row_indexer,col_indexer] = value instead\n",
      "\n",
      "See the caveats in the documentation: https://pandas.pydata.org/pandas-docs/stable/user_guide/indexing.html#returning-a-view-versus-a-copy\n",
      "  numerical[c] = numerical[c].fillna(np.mean(numerical[c]))\n",
      "/var/folders/ds/zk5fgzhx7b53nll390cs5phh0000gn/T/ipykernel_60424/2916895238.py:6: DeprecationWarning: `np.object` is a deprecated alias for the builtin `object`. To silence this warning, use `object` by itself. Doing this will not modify any behavior and is safe. \n",
      "Deprecated in NumPy 1.20; for more details and guidance: https://numpy.org/devdocs/release/1.20.0-notes.html#deprecations\n",
      "  categorical = df.select_dtypes(include= np.object)\n",
      "/Users/joriencaron/Library/Python/3.8/lib/python/site-packages/pandas/core/generic.py:6383: SettingWithCopyWarning: \n",
      "A value is trying to be set on a copy of a slice from a DataFrame\n",
      "\n",
      "See the caveats in the documentation: https://pandas.pydata.org/pandas-docs/stable/user_guide/indexing.html#returning-a-view-versus-a-copy\n",
      "  return self._update_inplace(result)\n"
     ]
    }
   ],
   "source": [
    "def nan_values(df):\n",
    "    numerical = df.select_dtypes(include= np.number)\n",
    "    for c in numerical:\n",
    "        if numerical[c].isna().sum() > 0:\n",
    "            numerical[c] = numerical[c].fillna(np.mean(numerical[c]))\n",
    "    categorical = df.select_dtypes(include= np.object)\n",
    "    for col in categorical.columns:\n",
    "        if categorical[col].isna().sum() > 0:\n",
    "            categorical[col].fillna(categorical[col].mode()[0], inplace=True)\n",
    "            df = pd.concat([numerical, categorical], axis=1)\n",
    "    return df\n",
    "\n",
    "df_fifa = nan_values(df_fifa)"
   ]
  },
  {
   "cell_type": "code",
   "execution_count": 5,
   "id": "30f129b1",
   "metadata": {
    "scrolled": true
   },
   "outputs": [
    {
     "name": "stdout",
     "output_type": "stream",
     "text": [
      "<class 'pandas.core.frame.DataFrame'>\n",
      "RangeIndex: 13700 entries, 0 to 13699\n",
      "Data columns (total 100 columns):\n",
      " #   Column            Non-Null Count  Dtype  \n",
      "---  ------            --------------  -----  \n",
      " 0   id                13700 non-null  int64  \n",
      " 1   age               13700 non-null  int64  \n",
      " 2   growth            13700 non-null  int64  \n",
      " 3   attacking         13700 non-null  int64  \n",
      " 4   crossing          13700 non-null  int64  \n",
      " 5   finishing         13700 non-null  int64  \n",
      " 6   heading accuracy  13700 non-null  int64  \n",
      " 7   short passing     13700 non-null  int64  \n",
      " 8   volleys           13700 non-null  float64\n",
      " 9   skill             13700 non-null  int64  \n",
      " 10  dribbling         13700 non-null  int64  \n",
      " 11  curve             13700 non-null  float64\n",
      " 12  fk accuracy       13700 non-null  int64  \n",
      " 13  long passing      13700 non-null  int64  \n",
      " 14  ball control      13700 non-null  int64  \n",
      " 15  movement          13700 non-null  int64  \n",
      " 16  acceleration      13700 non-null  int64  \n",
      " 17  sprint speed      13700 non-null  int64  \n",
      " 18  agility           13700 non-null  float64\n",
      " 19  reactions         13700 non-null  int64  \n",
      " 20  balance           13700 non-null  float64\n",
      " 21  power             13700 non-null  int64  \n",
      " 22  shot power        13700 non-null  int64  \n",
      " 23  jumping           13700 non-null  float64\n",
      " 24  stamina           13700 non-null  int64  \n",
      " 25  strength          13700 non-null  int64  \n",
      " 26  long shots        13700 non-null  int64  \n",
      " 27  mentality         13700 non-null  int64  \n",
      " 28  aggression        13700 non-null  int64  \n",
      " 29  interceptions     13700 non-null  float64\n",
      " 30  positioning       13700 non-null  float64\n",
      " 31  vision            13700 non-null  float64\n",
      " 32  penalties         13700 non-null  int64  \n",
      " 33  composure         13700 non-null  float64\n",
      " 34  defending         13700 non-null  int64  \n",
      " 35  marking           13700 non-null  int64  \n",
      " 36  standing tackle   13700 non-null  int64  \n",
      " 37  sliding tackle    13700 non-null  float64\n",
      " 38  goalkeeping       13700 non-null  int64  \n",
      " 39  gk diving         13700 non-null  int64  \n",
      " 40  gk handling       13700 non-null  int64  \n",
      " 41  gk kicking        13700 non-null  int64  \n",
      " 42  gk positioning    13700 non-null  int64  \n",
      " 43  gk reflexes       13700 non-null  int64  \n",
      " 44  total stats       13700 non-null  int64  \n",
      " 45  base stats        13700 non-null  int64  \n",
      " 46  pac               13700 non-null  int64  \n",
      " 47  sho               13700 non-null  int64  \n",
      " 48  pas               13700 non-null  int64  \n",
      " 49  dri               13700 non-null  int64  \n",
      " 50  def               13700 non-null  int64  \n",
      " 51  phy               13700 non-null  int64  \n",
      " 52  ova               13700 non-null  int64  \n",
      " 53  name              13700 non-null  object \n",
      " 54  nationality       13700 non-null  object \n",
      " 55  club              13700 non-null  object \n",
      " 56  bp                13700 non-null  object \n",
      " 57  position          13700 non-null  object \n",
      " 58  team & contract   13700 non-null  object \n",
      " 59  height            13700 non-null  object \n",
      " 60  weight            13700 non-null  object \n",
      " 61  foot              13700 non-null  object \n",
      " 62  joined            13700 non-null  object \n",
      " 63  value             13700 non-null  object \n",
      " 64  wage              13700 non-null  object \n",
      " 65  release clause    13700 non-null  object \n",
      " 66  contract          13700 non-null  object \n",
      " 67  w/f               13700 non-null  object \n",
      " 68  sm                13700 non-null  object \n",
      " 69  a/w               13700 non-null  object \n",
      " 70  d/w               13700 non-null  object \n",
      " 71  ir                13700 non-null  object \n",
      " 72  hits              13700 non-null  object \n",
      " 73  ls                13700 non-null  object \n",
      " 74  st                13700 non-null  object \n",
      " 75  rs                13700 non-null  object \n",
      " 76  lw                13700 non-null  object \n",
      " 77  lf                13700 non-null  object \n",
      " 78  cf                13700 non-null  object \n",
      " 79  rf                13700 non-null  object \n",
      " 80  rw                13700 non-null  object \n",
      " 81  lam               13700 non-null  object \n",
      " 82  cam               13700 non-null  object \n",
      " 83  ram               13700 non-null  object \n",
      " 84  lm                13700 non-null  object \n",
      " 85  lcm               13700 non-null  object \n",
      " 86  cm                13700 non-null  object \n",
      " 87  rcm               13700 non-null  object \n",
      " 88  rm                13700 non-null  object \n",
      " 89  lwb               13700 non-null  object \n",
      " 90  ldm               13700 non-null  object \n",
      " 91  cdm               13700 non-null  object \n",
      " 92  rdm               13700 non-null  object \n",
      " 93  rwb               13700 non-null  object \n",
      " 94  lb                13700 non-null  object \n",
      " 95  lcb               13700 non-null  object \n",
      " 96  cb                13700 non-null  object \n",
      " 97  rcb               13700 non-null  object \n",
      " 98  rb                13700 non-null  object \n",
      " 99  gk                13700 non-null  object \n",
      "dtypes: float64(10), int64(43), object(47)\n",
      "memory usage: 10.5+ MB\n"
     ]
    }
   ],
   "source": [
    "df_fifa.info()"
   ]
  },
  {
   "cell_type": "code",
   "execution_count": 6,
   "id": "c5826edd",
   "metadata": {},
   "outputs": [],
   "source": [
    "def weight_and_value(df, column, column2):\n",
    "    df[column] = df[column].str.replace('€', '')\n",
    "    df[column2] = df[column2].str.replace('lbs', '')\n",
    "    df[column2] =  pd.to_numeric(df[column2], errors='coerce')\n",
    "    return df\n",
    "\n",
    "df_fifa = weight_and_value(df_fifa, 'value', 'weight')\n",
    "\n",
    "def value_to_float(x):\n",
    "    if 'K' in x:\n",
    "        if len(x) > 1:\n",
    "            return float(x.replace('K', '')) * 1000\n",
    "        return 1000\n",
    "    if 'M' in x:\n",
    "        if len(x) > 1:\n",
    "            return float(x.replace('M', '')) * 1000000\n",
    "        return 1000000\n",
    "    if 'B' in x:\n",
    "        return float(x.replace('B', '')) * 1000000000\n",
    "    return 0\n",
    "\n",
    "df_fifa['value'] = df_fifa['value'].apply(value_to_float)"
   ]
  },
  {
   "cell_type": "code",
   "execution_count": 7,
   "id": "3a11b34c",
   "metadata": {},
   "outputs": [],
   "source": [
    "# def MinMaxtransform_encoder(df, column):\n",
    "#     from sklearn.preprocessing import MinMaxScaler\n",
    "#     y = df[column]\n",
    "#     X = df.drop([column], axis=1)\n",
    "#     X_num = X.select_dtypes(include= np.number)\n",
    "#     MinMaxTransformer = MinMaxScaler().fit(X_num)\n",
    "#     X_normalized = MinMaxTransformer.transform(X_num)\n",
    "#     X = pd.DataFrame(X_normalized,columns=X_num.columns)\n",
    "#     return X\n",
    "\n",
    "# X = MinMaxtransform_encoder(df_fifa, 'ova')"
   ]
  },
  {
   "cell_type": "code",
   "execution_count": 8,
   "id": "06734cca",
   "metadata": {},
   "outputs": [],
   "source": [
    "fifa_ova = df_fifa.drop(['weight','acceleration', 'sprint speed','agility','balance','jumping','goalkeeping','gk diving', 'gk handling', 'gk kicking', 'gk positioning','gk reflexes', 'pac'], axis = 1)\n",
    "def MinMaxtransform_encoder(df, column):\n",
    "    from sklearn.preprocessing import MinMaxScaler\n",
    "    y = df[column]\n",
    "    X = df.drop([column], axis=1)\n",
    "    X_num = X.select_dtypes(include= np.number)\n",
    "    MinMaxTransformer = MinMaxScaler().fit(X_num)\n",
    "    X_normalized = MinMaxTransformer.transform(X_num)\n",
    "    X = pd.DataFrame(X_normalized,columns=X_num.columns)\n",
    "    return X\n",
    "\n",
    "X = MinMaxtransform_encoder(fifa_ova, 'ova')"
   ]
  },
  {
   "cell_type": "code",
   "execution_count": 9,
   "id": "c8e5433b",
   "metadata": {},
   "outputs": [],
   "source": [
    "def predictions(df, column):\n",
    "    from sklearn import linear_model\n",
    "    from sklearn.metrics import r2_score, mean_squared_error, mean_absolute_error\n",
    "    import math\n",
    "    from sklearn.model_selection import train_test_split\n",
    "    y = df[column]\n",
    "    X_train, X_test, y_train, y_test = train_test_split(X,y,test_size=0.2, random_state=42)\n",
    "    lm = linear_model.LinearRegression()\n",
    "    model = lm.fit(X_train, y_train)\n",
    "    predictions = lm.predict(X_test)\n",
    "    predictions_df = pd.concat([df,pd.Series(predictions)],axis=1).head()\n",
    "    return predictions_df, model, \n",
    "\n",
    "predictions(fifa_ova, 'ova')"
   ]
  },
  {
   "cell_type": "code",
   "execution_count": 10,
   "id": "1eef570b",
   "metadata": {},
   "outputs": [
    {
     "data": {
      "text/plain": [
       "(   ova          0\n",
       " 0   64  69.773006\n",
       " 1   77  61.507724\n",
       " 2   80  74.991157\n",
       " 3   59  59.294927\n",
       " 4   65  70.325704,\n",
       " 0.9083959949238788,\n",
       " 4.5534571334104905,\n",
       " 2.133883111468501,\n",
       " 1.6601480579737726)"
      ]
     },
     "execution_count": 10,
     "metadata": {},
     "output_type": "execute_result"
    }
   ],
   "source": [
    "# def predictions(df, column):\n",
    "#     from sklearn import linear_model\n",
    "#     from sklearn.metrics import r2_score, mean_squared_error, mean_absolute_error\n",
    "#     import math\n",
    "#     from sklearn.model_selection import train_test_split\n",
    "#     y = df[column]\n",
    "#     X_train, X_test, y_train, y_test = train_test_split(X,y,test_size=0.2, random_state=42)\n",
    "#     lm = linear_model.LinearRegression()\n",
    "#     model = lm.fit(X_train, y_train)\n",
    "#     predictions = lm.predict(X_test)\n",
    "#     predictions_df = pd.concat([df[column],pd.Series(predictions)],axis=1).head()\n",
    "#     r2 = r2_score(y_test, predictions)\n",
    "#     mse = mean_squared_error(y_test, predictions)\n",
    "#     rmse = math.sqrt(mse)\n",
    "#     mae = mean_absolute_error(y_test, predictions)\n",
    "#     return pd.DataFrame(predictions_df), r2, mse, rmse, mae\n",
    "\n",
    "# predictions(df_fifa, 'ova')"
   ]
  },
  {
   "cell_type": "code",
   "execution_count": 11,
   "id": "d06597e2",
   "metadata": {},
   "outputs": [
    {
     "ename": "NameError",
     "evalue": "name 'linear_regression' is not defined",
     "output_type": "error",
     "traceback": [
      "\u001b[0;31m---------------------------------------------------------------------------\u001b[0m",
      "\u001b[0;31mNameError\u001b[0m                                 Traceback (most recent call last)",
      "\u001b[0;32m/var/folders/ds/zk5fgzhx7b53nll390cs5phh0000gn/T/ipykernel_60424/2197089096.py\u001b[0m in \u001b[0;36m<module>\u001b[0;34m\u001b[0m\n\u001b[1;32m     11\u001b[0m     \u001b[0;32mreturn\u001b[0m \u001b[0mscore\u001b[0m\u001b[0;34m,\u001b[0m \u001b[0mr2\u001b[0m\u001b[0;34m,\u001b[0m \u001b[0mmse\u001b[0m\u001b[0;34m,\u001b[0m \u001b[0mmae\u001b[0m\u001b[0;34m,\u001b[0m \u001b[0mrmse\u001b[0m\u001b[0;34m\u001b[0m\u001b[0;34m\u001b[0m\u001b[0m\n\u001b[1;32m     12\u001b[0m \u001b[0;34m\u001b[0m\u001b[0m\n\u001b[0;32m---> 13\u001b[0;31m \u001b[0mscore\u001b[0m\u001b[0;34m,\u001b[0m \u001b[0mr2\u001b[0m\u001b[0;34m,\u001b[0m \u001b[0mmse\u001b[0m\u001b[0;34m,\u001b[0m \u001b[0mmae\u001b[0m\u001b[0;34m,\u001b[0m \u001b[0mrmse\u001b[0m \u001b[0;34m=\u001b[0m \u001b[0mmodel_metrics\u001b[0m\u001b[0;34m(\u001b[0m\u001b[0mlinear_regression\u001b[0m\u001b[0;34m,\u001b[0m \u001b[0mX_test\u001b[0m\u001b[0;34m,\u001b[0m \u001b[0my_test\u001b[0m\u001b[0;34m)\u001b[0m\u001b[0;34m\u001b[0m\u001b[0;34m\u001b[0m\u001b[0m\n\u001b[0m",
      "\u001b[0;31mNameError\u001b[0m: name 'linear_regression' is not defined"
     ]
    }
   ],
   "source": [
    "def model_metrics(model, testing_x, testing_y):\n",
    "\n",
    "    predictions = model.predict(testing_x)\n",
    "\n",
    "    score = model.score(testing_x, testing_y)\n",
    "    r2 = r2_score(predictions, testing_y)\n",
    "    mse = mean_squared_error(predictions, testing_y)\n",
    "    mae = mean_absolute_error(predictions, testing_y)\n",
    "    rmse = sqrt(mse)\n",
    "\n",
    "    return score, r2, mse, mae, rmse\n",
    "\n",
    "score, r2, mse, mae, rmse = model_metrics(linear_regression, X_test, y_test)"
   ]
  },
  {
   "cell_type": "code",
   "execution_count": null,
   "id": "c95c3c09",
   "metadata": {},
   "outputs": [],
   "source": []
  }
 ],
 "metadata": {
  "kernelspec": {
   "display_name": "Python 3 (ipykernel)",
   "language": "python",
   "name": "python3"
  },
  "language_info": {
   "codemirror_mode": {
    "name": "ipython",
    "version": 3
   },
   "file_extension": ".py",
   "mimetype": "text/x-python",
   "name": "python",
   "nbconvert_exporter": "python",
   "pygments_lexer": "ipython3",
   "version": "3.8.2"
  }
 },
 "nbformat": 4,
 "nbformat_minor": 5
}
